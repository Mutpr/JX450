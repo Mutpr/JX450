{
 "cells": [
  {
   "cell_type": "code",
   "execution_count": 27,
   "id": "80d9487d",
   "metadata": {
    "scrolled": false
   },
   "outputs": [
    {
     "name": "stdout",
     "output_type": "stream",
     "text": [
      "['admin', 'bitDB', 'config', 'examDB', 'itemDB', 'local', 'restDB', 'test']\n",
      "item :  {'lv': '605', 'equip': '90', 'name': '변옥 방패'}\n"
     ]
    },
    {
     "ename": "TypeError",
     "evalue": "'Collection' object is not callable. If you meant to call the 'updateOne' method on a 'Collection' object it is failing because no such method exists.",
     "output_type": "error",
     "traceback": [
      "\u001b[1;31m---------------------------------------------------------------------------\u001b[0m",
      "\u001b[1;31mTypeError\u001b[0m                                 Traceback (most recent call last)",
      "\u001b[1;32m~\\AppData\\Local\\Temp\\ipykernel_14300\\1931892026.py\u001b[0m in \u001b[0;36m<module>\u001b[1;34m\u001b[0m\n\u001b[0;32m     33\u001b[0m \u001b[1;32mfor\u001b[0m \u001b[0mitem\u001b[0m \u001b[1;32min\u001b[0m \u001b[0mitems\u001b[0m\u001b[1;33m:\u001b[0m\u001b[1;33m\u001b[0m\u001b[1;33m\u001b[0m\u001b[0m\n\u001b[0;32m     34\u001b[0m     \u001b[0mprint\u001b[0m\u001b[1;33m(\u001b[0m\u001b[1;34m'item : '\u001b[0m\u001b[1;33m,\u001b[0m \u001b[0mitem\u001b[0m\u001b[1;33m)\u001b[0m\u001b[1;33m\u001b[0m\u001b[1;33m\u001b[0m\u001b[0m\n\u001b[1;32m---> 35\u001b[1;33m     \u001b[0mmyDB\u001b[0m\u001b[1;33m.\u001b[0m\u001b[0mmycol\u001b[0m\u001b[1;33m.\u001b[0m\u001b[0mupdateOne\u001b[0m\u001b[1;33m(\u001b[0m\u001b[0mitems\u001b[0m\u001b[1;33m,\u001b[0m \u001b[0mmycol\u001b[0m\u001b[1;33m)\u001b[0m\u001b[1;33m\u001b[0m\u001b[1;33m\u001b[0m\u001b[0m\n\u001b[0m",
      "\u001b[1;32m~\\anaconda3\\lib\\site-packages\\pymongo\\collection.py\u001b[0m in \u001b[0;36m__call__\u001b[1;34m(self, *args, **kwargs)\u001b[0m\n\u001b[0;32m   3211\u001b[0m                 \u001b[1;34m\"exists.\"\u001b[0m \u001b[1;33m%\u001b[0m \u001b[0mself\u001b[0m\u001b[1;33m.\u001b[0m\u001b[0m__name\u001b[0m\u001b[1;33m\u001b[0m\u001b[1;33m\u001b[0m\u001b[0m\n\u001b[0;32m   3212\u001b[0m             )\n\u001b[1;32m-> 3213\u001b[1;33m         raise TypeError(\n\u001b[0m\u001b[0;32m   3214\u001b[0m             \u001b[1;34m\"'Collection' object is not callable. If you meant to \"\u001b[0m\u001b[1;33m\u001b[0m\u001b[1;33m\u001b[0m\u001b[0m\n\u001b[0;32m   3215\u001b[0m             \u001b[1;34m\"call the '%s' method on a 'Collection' object it is \"\u001b[0m\u001b[1;33m\u001b[0m\u001b[1;33m\u001b[0m\u001b[0m\n",
      "\u001b[1;31mTypeError\u001b[0m: 'Collection' object is not callable. If you meant to call the 'updateOne' method on a 'Collection' object it is failing because no such method exists."
     ]
    }
   ],
   "source": [
    "from bs4 import BeautifulSoup\n",
    "import urllib.request\n",
    "from pymongo import MongoClient\n",
    "\n",
    "client = MongoClient(\"mongodb://localhost:27017/\")\n",
    "print(client.list_database_names())\n",
    "myDB = client[\"itemDB\"]\n",
    "mycol = myDB[\"shield\"]\n",
    "\n",
    "items = [];\n",
    "\n",
    "for page in range(1,10):\n",
    "    url = \"http://guide.ff14.co.kr/lodestone/db/item?category2=3&category3=11&page=%d\"%(page)\n",
    "    \n",
    "    html = urllib.request.urlopen(url)\n",
    "    bsObject = BeautifulSoup(html, 'html.parser')\n",
    "    tag_tbody = bsObject.find('tbody')\n",
    "    \n",
    "    for item in tag_tbody.find_all('tr'):\n",
    "        item_info = dict()\n",
    "        \n",
    "        item_td = item.find_all('td')\n",
    "        item_a = item.find_all('a')\n",
    "        \n",
    "        try:\n",
    "            item_level = item_td[1].string; item_info[\"lv\"] = item_td[1].string\n",
    "            item_equip = item_td[2].string; item_info[\"equip\"] = item_td[].string\n",
    "            item_name = item_a[0].string; item_info[\"name\"] = item_a[0].string\n",
    "            items.append(item_info)\n",
    "        except:\n",
    "            items.append(item_info)\n",
    "\n",
    "for item in items:\n",
    "    print('item : ', item)\n",
    "    mycol.insert_one(item)"
   ]
  },
  {
   "cell_type": "code",
   "execution_count": null,
   "id": "69a0f952",
   "metadata": {},
   "outputs": [],
   "source": [
    "from bs4 import BeautifulSoup\n",
    "import urllib.request\n",
    "from pymongo import MongoClient\n",
    "\n",
    "client = MongoClient(\"mongodb://localhost:27017/\")\n",
    "print(client.list_database_names())\n",
    "myDB = client[\"itemDB\"]\n",
    "mycol = myDB[\"equip_armorer\"]\n",
    "\n",
    "items = [];\n",
    "\n",
    "url = \"http://guide.ff14.co.kr/lodestone/db/item?category2=2&category3=17\"\n",
    "\n",
    "html = urllib.request.urlopen(url)\n",
    "bsObject = BeautifulSoup(html, 'html.parser')\n",
    "tag_tbody = bsObject.find('tbody')\n",
    "\n",
    "for item in tag_tbody.find_all('tr'):\n",
    "    item_info = dict()\n",
    "\n",
    "    item_td = item.find_all('td')\n",
    "    item_a = item.find_all('a')\n",
    "\n",
    "    try:\n",
    "        item_level = item_td[1].string; item_info[\"lv\"] = item_td[0].string\n",
    "        item_equip = item_td[2].string; item_info[\"equip\"] = item_td[1].string\n",
    "        item_name = item_a[0].string; item_info[\"name\"] = item_a[0].string\n",
    "        items.append(item_info)\n",
    "    except:\n",
    "        items.append(item_info)\n",
    "\n",
    "for item in items:\n",
    "    print('item : ', item)\n",
    "    mycol.insert_one(item)"
   ]
  },
  {
   "cell_type": "code",
   "execution_count": null,
   "id": "045d6ac3",
   "metadata": {},
   "outputs": [],
   "source": []
  },
  {
   "cell_type": "code",
   "execution_count": null,
   "id": "1584c80f",
   "metadata": {},
   "outputs": [],
   "source": []
  }
 ],
 "metadata": {
  "kernelspec": {
   "display_name": "Python 3 (ipykernel)",
   "language": "python",
   "name": "python3"
  },
  "language_info": {
   "codemirror_mode": {
    "name": "ipython",
    "version": 3
   },
   "file_extension": ".py",
   "mimetype": "text/x-python",
   "name": "python",
   "nbconvert_exporter": "python",
   "pygments_lexer": "ipython3",
   "version": "3.9.13"
  }
 },
 "nbformat": 4,
 "nbformat_minor": 5
}
